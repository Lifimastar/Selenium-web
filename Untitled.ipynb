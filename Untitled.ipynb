{
 "cells": [
  {
   "cell_type": "code",
   "execution_count": 37,
   "id": "8389c8d6",
   "metadata": {},
   "outputs": [],
   "source": [
    "from selenium import webdriver\n",
    "from selenium.webdriver.common.by import By\n",
    "from selenium.webdriver.support.ui import Select\n",
    "import pandas as pd\n",
    "import time"
   ]
  },
  {
   "cell_type": "code",
   "execution_count": 19,
   "id": "6a16f4d1",
   "metadata": {},
   "outputs": [],
   "source": [
    "website= 'https://www.adamchoi.co.uk/teamgoals/detailed'\n",
    "path = r'C:\\Users\\luisf\\Desktop\\Selenium-web\\chromedriver.exe'"
   ]
  },
  {
   "cell_type": "code",
   "execution_count": 36,
   "id": "37b818cc",
   "metadata": {},
   "outputs": [
    {
     "name": "stderr",
     "output_type": "stream",
     "text": [
      "C:\\Users\\luisf\\AppData\\Local\\Temp\\ipykernel_8844\\586163155.py:1: DeprecationWarning: executable_path has been deprecated, please pass in a Service object\n",
      "  driver = webdriver.Chrome(path)\n"
     ]
    },
    {
     "name": "stdout",
     "output_type": "stream",
     "text": [
      "                                   partidos\n",
      "0      14-08-2022 Almeria 1 - 2 Real Madrid\n",
      "1            22-08-2022 Elche 1 - 1 Almeria\n",
      "2          27-08-2022 Almeria 2 - 1 Sevilla\n",
      "3       05-09-2022 Valladolid 1 - 0 Almeria\n",
      "4          12-09-2022 Almeria 0 - 1 Osasuna\n",
      "..                                      ...\n",
      "675     23-04-2023 Sevilla 2 - 1 Villarreal\n",
      "676     27-04-2023 Villarreal 4 - 2 Espanol\n",
      "677       30-04-2023 Villarreal 3 - 1 Celta\n",
      "678    03-05-2023 Valencia 1 - 1 Villarreal\n",
      "679  13-05-2023 Villarreal ? - ? Ath Bilbao\n",
      "\n",
      "[680 rows x 1 columns]\n"
     ]
    }
   ],
   "source": [
    "driver = webdriver.Chrome(path)\n",
    "driver.get(website)\n",
    "\n",
    "all_matches_button = driver.find_element(By.XPATH,'//label[@analytics-event=\"All matches\"]')\n",
    "all_matches_button.click()\n",
    "\n",
    "caja = driver.find_element(By.CLASS_NAME, 'panel-body')\n",
    "\n",
    "dropdown = Select(driver.find_element(By.ID,'country'))\n",
    "dropdown.select_by_visible_text('Spain')\n",
    "\n",
    "time.sleep(5)\n",
    "\n",
    "matches = driver.find_elements(By.TAG_NAME,'tr')\n",
    "\n",
    "partidos = []\n",
    "for match in matches:\n",
    "    partidos.append(match.text)\n",
    "\n",
    "driver.quit()\n",
    "\n",
    "# Pandas\n",
    "df = pd.DataFrame({'partidos':partidos})\n",
    "print(df)\n",
    "df.to_csv('partidos.csv', index=False)"
   ]
  }
 ],
 "metadata": {
  "kernelspec": {
   "display_name": "Python 3 (ipykernel)",
   "language": "python",
   "name": "python3"
  },
  "language_info": {
   "codemirror_mode": {
    "name": "ipython",
    "version": 3
   },
   "file_extension": ".py",
   "mimetype": "text/x-python",
   "name": "python",
   "nbconvert_exporter": "python",
   "pygments_lexer": "ipython3",
   "version": "3.10.9"
  }
 },
 "nbformat": 4,
 "nbformat_minor": 5
}
